{
 "cells": [
  {
   "cell_type": "markdown",
   "metadata": {
    "id": "tzz5-Wnl6qaM"
   },
   "source": [
    "# Object-Oriented-Programming (OOP)"
   ]
  },
  {
   "cell_type": "markdown",
   "metadata": {
    "id": "u5kRIYx66qaO"
   },
   "source": [
    "## Tasks Today:\n",
    "\n",
    "   \n",
    "\n",
    "1) <b>Creating a Class (Initializing/Declaring)</b> <br>\n",
    "2) <b>Using a Class (Instantiating)</b> <br>\n",
    " &nbsp;&nbsp;&nbsp;&nbsp; a) Creating One Instance <br>\n",
    " &nbsp;&nbsp;&nbsp;&nbsp; b) Creating Multiple Instances <br>\n",
    " &nbsp;&nbsp;&nbsp;&nbsp; c) In-Class Exercise #1 - Create a Class 'Car' and instantiate three different makes of cars <br>\n",
    "3) <b>The \\__init\\__() Method</b> <br>\n",
    " &nbsp;&nbsp;&nbsp;&nbsp; a) The 'self' Attribute <br>\n",
    "4) <b>Class Attributes</b> <br>\n",
    " &nbsp;&nbsp;&nbsp;&nbsp; a) Initializing Attributes <br>\n",
    " &nbsp;&nbsp;&nbsp;&nbsp; b) Setting an Attribute Outside of the \\__init\\__() Method <br>\n",
    " &nbsp;&nbsp;&nbsp;&nbsp; c) Setting Defaults for Attributes <br>\n",
    " &nbsp;&nbsp;&nbsp;&nbsp; d) Accessing Class Attributes <br>\n",
    " &nbsp;&nbsp;&nbsp;&nbsp; e) Changing Class Attributes <br>\n",
    " &nbsp;&nbsp;&nbsp;&nbsp; f) In-Class Exercise #2 - Add a color and wheels attribute to your 'Car' class <br>\n",
    "5) <b>Class Methods</b> <br>\n",
    " &nbsp;&nbsp;&nbsp;&nbsp; a) Creating <br>\n",
    " &nbsp;&nbsp;&nbsp;&nbsp; b) Calling <br>\n",
    " &nbsp;&nbsp;&nbsp;&nbsp; c) Modifying an Attribute's Value Through a Method <br>\n",
    " &nbsp;&nbsp;&nbsp;&nbsp; d) Incrementing an Attribute's Value Through a Method <br>\n",
    " &nbsp;&nbsp;&nbsp;&nbsp; e) In-Class Exercise #3 - Add a method that prints the cars color and wheel number, then call them <br>\n",
    "6) <b>Inheritance</b> <br>\n",
    " &nbsp;&nbsp;&nbsp;&nbsp; a) Syntax for Inheriting from a Parent Class <br>\n",
    " &nbsp;&nbsp;&nbsp;&nbsp; b) The \\__init\\__() Method for a Child Class (super()) <br>\n",
    " &nbsp;&nbsp;&nbsp;&nbsp; c) Defining Attributes and Methods for the Child Class <br>\n",
    " &nbsp;&nbsp;&nbsp;&nbsp; d) Method Overriding <br>\n",
    " &nbsp;&nbsp;&nbsp;&nbsp; e) In-Class Exercise #4 - Create a class 'Ford' that inherits from 'Car' class and initialize it as a Blue Ford Explorer with 4 wheels using the super() method <br>\n",
    "7) <b>Classes as Attributes</b> <br>\n",
    "8) <b>Exercises</b> <br>\n",
    " &nbsp;&nbsp;&nbsp;&nbsp; a) Exercise #1 - Turn the shopping cart program from yesterday into an object-oriented program <br>"
   ]
  },
  {
   "cell_type": "markdown",
   "metadata": {
    "id": "bV1RNZTn6qaP"
   },
   "source": [
    "## Creating a Class (Initializing/Declaring)\n",
    "<p>When creating a class, function, or even a variable you are initializing that object. Initializing and Declaring occur at the same time in Python, whereas in lower level languages you have to declare an object before initializing it. This is the first step in the process of using a class.</p>"
   ]
  },
  {
   "cell_type": "code",
   "execution_count": 3,
   "metadata": {
    "executionInfo": {
     "elapsed": 307,
     "status": "ok",
     "timestamp": 1654400144143,
     "user": {
      "displayName": "Brandon Apol",
      "userId": "10984203036753147866"
     },
     "user_tz": 480
    },
    "id": "S7HPzAkZ6qaQ"
   },
   "outputs": [],
   "source": [
    "class Car():\n",
    "    wheels = 4\n",
    "    color = 'blue'"
   ]
  },
  {
   "cell_type": "markdown",
   "metadata": {
    "id": "Bi4oK3Om6qaQ"
   },
   "source": [
    "## Using a Class (Instantiating)\n",
    "<p>The process of creating a class is called <i>Instantiating</i>. Each time you create a variable of that type of class, it is referred to as an <i>Instance</i> of that class. This is the second step in the process of using a class.</p>"
   ]
  },
  {
   "cell_type": "markdown",
   "metadata": {
    "id": "_WzS37Z_6qaR"
   },
   "source": [
    "##### Creating One Instance"
   ]
  },
  {
   "cell_type": "code",
   "execution_count": 4,
   "metadata": {
    "colab": {
     "base_uri": "https://localhost:8080/"
    },
    "executionInfo": {
     "elapsed": 306,
     "status": "ok",
     "timestamp": 1654400232968,
     "user": {
      "displayName": "Brandon Apol",
      "userId": "10984203036753147866"
     },
     "user_tz": 480
    },
    "id": "GNpeQ4056qaR",
    "outputId": "75a86f8c-980c-438f-dc34-fd9ed4b00c55"
   },
   "outputs": [
    {
     "name": "stdout",
     "output_type": "stream",
     "text": [
      "blue\n"
     ]
    }
   ],
   "source": [
    "ford = Car() \n",
    "# ford is called as an instance or object\n",
    "print(ford.color)"
   ]
  },
  {
   "cell_type": "markdown",
   "metadata": {
    "id": "5UTTxfbq6qaS"
   },
   "source": [
    "##### Creating Multiple Instances"
   ]
  },
  {
   "cell_type": "code",
   "execution_count": 5,
   "metadata": {
    "colab": {
     "base_uri": "https://localhost:8080/",
     "height": 218
    },
    "executionInfo": {
     "elapsed": 276,
     "status": "error",
     "timestamp": 1654400319844,
     "user": {
      "displayName": "Brandon Apol",
      "userId": "10984203036753147866"
     },
     "user_tz": 480
    },
    "id": "vvNgCYxM6qaS",
    "outputId": "694d656d-da72-4748-b400-e1a62bca93fd"
   },
   "outputs": [
    {
     "name": "stdout",
     "output_type": "stream",
     "text": [
      "<class 'str'>\n"
     ]
    },
    {
     "ename": "AttributeError",
     "evalue": "'Car' object has no attribute 'bumper'",
     "output_type": "error",
     "traceback": [
      "\u001b[0;31m---------------------------------------------------------------------------\u001b[0m",
      "\u001b[0;31mAttributeError\u001b[0m                            Traceback (most recent call last)",
      "Input \u001b[0;32mIn [5]\u001b[0m, in \u001b[0;36m<cell line: 6>\u001b[0;34m()\u001b[0m\n\u001b[1;32m      3\u001b[0m porsche \u001b[38;5;241m=\u001b[39m Car()\n\u001b[1;32m      5\u001b[0m \u001b[38;5;28mprint\u001b[39m(\u001b[38;5;28mtype\u001b[39m(porsche\u001b[38;5;241m.\u001b[39mcolor))\n\u001b[0;32m----> 6\u001b[0m \u001b[38;5;28mprint\u001b[39m(\u001b[43mporsche\u001b[49m\u001b[38;5;241;43m.\u001b[39;49m\u001b[43mbumper\u001b[49m)\n",
      "\u001b[0;31mAttributeError\u001b[0m: 'Car' object has no attribute 'bumper'"
     ]
    }
   ],
   "source": [
    "chevy = Car()\n",
    "honda = Car()\n",
    "porsche = Car()\n",
    "\n",
    "print(type(porsche.color))\n",
    "print(porsche.bumper)\n"
   ]
  },
  {
   "cell_type": "markdown",
   "metadata": {
    "id": "Nkie3MQN6qaS"
   },
   "source": [
    "##### In-Class Exercise #1 - Create a Class 'Car' and Instantiate three different makes of cars"
   ]
  },
  {
   "cell_type": "code",
   "execution_count": 11,
   "metadata": {
    "id": "l_CiL6xs6qaS"
   },
   "outputs": [
    {
     "name": "stdout",
     "output_type": "stream",
     "text": [
      "black\n",
      "2\n",
      "full option\n"
     ]
    }
   ],
   "source": [
    "class Car():\n",
    "    color = \"black\"\n",
    "    option = \"full option\"\n",
    "    door = 2\n",
    "    \n",
    "audi = Car()\n",
    "merce = Car()\n",
    "lexus = Car()\n",
    "\n",
    "print(audi.color)\n",
    "print(merce.door)\n",
    "print(lexus.option)\n",
    "    "
   ]
  },
  {
   "cell_type": "markdown",
   "metadata": {
    "id": "4I9QMKHT6qaS"
   },
   "source": [
    "## The \\__init\\__() Method <br>\n",
    "<p>This method is used in almost every created class, and called only once upon the creation of the class instance. This method will initialize all variables needed for the object.</p>"
   ]
  },
  {
   "cell_type": "code",
   "execution_count": 8,
   "metadata": {
    "colab": {
     "base_uri": "https://localhost:8080/"
    },
    "executionInfo": {
     "elapsed": 297,
     "status": "ok",
     "timestamp": 1654400605284,
     "user": {
      "displayName": "Brandon Apol",
      "userId": "10984203036753147866"
     },
     "user_tz": 480
    },
    "id": "A4mXk-5v6qaT",
    "outputId": "ac218617-dc13-4856-aeaf-b8afe334d484"
   },
   "outputs": [
    {
     "name": "stdout",
     "output_type": "stream",
     "text": [
      "4\n",
      "6\n"
     ]
    }
   ],
   "source": [
    "# Method is a function inside of the class  \n",
    "\n",
    "class Car():\n",
    "  engine = '4.7L' # constant attribute : global within class - any method inside the class can call upon this variable\n",
    "\n",
    "  def __init__(self, wheels, color):\n",
    "    self.wheels = wheels\n",
    "    self.color = color\n",
    "\n",
    "ford = Car(4, 'red')\n",
    "chevy = Car(6, 'black')\n",
    "\n",
    "print(ford.wheels)\n",
    "print(chevy.wheels)"
   ]
  },
  {
   "cell_type": "markdown",
   "metadata": {
    "id": "E3FhAPyW6qaT"
   },
   "source": [
    "##### The 'self' Attribute <br>\n",
    "<p>This attribute is required to keep track of specific instance's attributes. Without the self attribute, the program would not know how to reference or keep track of an instance's attributes.</p>"
   ]
  },
  {
   "cell_type": "code",
   "execution_count": null,
   "metadata": {
    "id": "gqlafbUx6qaT"
   },
   "outputs": [],
   "source": [
    "# see above"
   ]
  },
  {
   "cell_type": "markdown",
   "metadata": {
    "id": "rTd9cgBn6qaT"
   },
   "source": [
    "## Class Attributes <br>\n",
    "<p>While variables are inside of a class, they are referred to as attributes and not variables. When someone says 'attribute' you know they're speaking about a class. Attributes can be initialized through the init method, or outside of it.</p>"
   ]
  },
  {
   "cell_type": "markdown",
   "metadata": {
    "id": "sXSQitFB6qaT"
   },
   "source": [
    "##### Initializing Attributes"
   ]
  },
  {
   "cell_type": "code",
   "execution_count": 9,
   "metadata": {
    "executionInfo": {
     "elapsed": 263,
     "status": "ok",
     "timestamp": 1654400961508,
     "user": {
      "displayName": "Brandon Apol",
      "userId": "10984203036753147866"
     },
     "user_tz": 480
    },
    "id": "gFrutSJ96qaT"
   },
   "outputs": [],
   "source": [
    "# see above\n",
    "\n",
    "class Toy():\n",
    "  kind = 'car'\n",
    "\n",
    "  def __init__(self, rooftop, horn, wheels = 4):\n",
    "    self.rooftop = rooftop # These are out attibutes\n",
    "    self.horn = horn\n",
    "    self.wheels = wheels\n",
    "\n",
    "tonka_truck = Toy(1,1)\n",
    "hotwheels_car = Toy(2,3,8)\n"
   ]
  },
  {
   "cell_type": "markdown",
   "metadata": {
    "id": "5qEDs3Ef6qaU"
   },
   "source": [
    "##### Accessing Class Attributes"
   ]
  },
  {
   "cell_type": "code",
   "execution_count": 11,
   "metadata": {
    "colab": {
     "base_uri": "https://localhost:8080/"
    },
    "executionInfo": {
     "elapsed": 336,
     "status": "ok",
     "timestamp": 1654401000610,
     "user": {
      "displayName": "Brandon Apol",
      "userId": "10984203036753147866"
     },
     "user_tz": 480
    },
    "id": "9Uo5umjk6qaU",
    "outputId": "5187dd0d-2ac2-48dd-8be2-b3d10e145241",
    "scrolled": true
   },
   "outputs": [
    {
     "name": "stdout",
     "output_type": "stream",
     "text": [
      "1\n",
      "8\n"
     ]
    }
   ],
   "source": [
    "# See Above\n",
    "print(tonka_truck.horn)\n",
    "print(hotwheels_car.wheels)"
   ]
  },
  {
   "cell_type": "markdown",
   "metadata": {
    "id": "589n2bfI6qaU"
   },
   "source": [
    "##### Setting Defaults for Attributes"
   ]
  },
  {
   "cell_type": "code",
   "execution_count": 20,
   "metadata": {
    "colab": {
     "base_uri": "https://localhost:8080/"
    },
    "executionInfo": {
     "elapsed": 291,
     "status": "ok",
     "timestamp": 1654401207595,
     "user": {
      "displayName": "Brandon Apol",
      "userId": "10984203036753147866"
     },
     "user_tz": 480
    },
    "id": "xbpERQEX6qaU",
    "outputId": "b8c54225-fdc5-4ae4-eda9-8d588a17b2f5"
   },
   "outputs": [
    {
     "name": "stdout",
     "output_type": "stream",
     "text": [
      "Blue\n",
      "4\n",
      "Blue\n",
      "white\n"
     ]
    }
   ],
   "source": [
    "class Car():\n",
    "    engine = '4.7L'\n",
    "    \n",
    "    def __init__(self,wheels):\n",
    "      self.wheels = wheels\n",
    "      self.color = 'Blue' \n",
    "\n",
    "honda = Car(4)\n",
    "print(honda.color)\n",
    "print(honda.wheels)\n",
    "honda.engine = '5.4L'\n",
    "\n",
    "jeep = Car(8)\n",
    "\n",
    "print(jeep.color)\n",
    "\n",
    "jeep.color = \"white\"\n",
    "print(jeep.color)\n"
   ]
  },
  {
   "cell_type": "markdown",
   "metadata": {
    "id": "ir8k02ZE6qaU"
   },
   "source": [
    "##### Changing Class Attributes <br>\n",
    "<p>Keep in mind there are global class attributes and then there are attributes only available to each class instance which won't effect other classes.</p>"
   ]
  },
  {
   "cell_type": "code",
   "execution_count": 17,
   "metadata": {
    "id": "RfGZ5kbu6qaU"
   },
   "outputs": [
    {
     "name": "stdout",
     "output_type": "stream",
     "text": [
      "black\n"
     ]
    }
   ],
   "source": [
    "#see above\n",
    "\n"
   ]
  },
  {
   "cell_type": "code",
   "execution_count": null,
   "metadata": {
    "id": "zeppI2y-6qaU"
   },
   "outputs": [],
   "source": []
  },
  {
   "cell_type": "markdown",
   "metadata": {
    "id": "omwSVPyN6qaU"
   },
   "source": [
    "##### In-Class Exercise #2 - Add a doors and seats attribute to your 'Car' class then print out two different instances with different doors and seats"
   ]
  },
  {
   "cell_type": "code",
   "execution_count": 27,
   "metadata": {
    "id": "fyKwSeJg6qaU"
   },
   "outputs": [
    {
     "name": "stdout",
     "output_type": "stream",
     "text": [
      "Hyundai seats: 6, Genesis seats: 2\n"
     ]
    }
   ],
   "source": [
    "class Car():\n",
    "    engine = '4.7L'\n",
    "    \n",
    "    def __init__(self,wheels,doors,seats = 6):\n",
    "      self.wheels = wheels\n",
    "      self.color = 'Blue' \n",
    "      self.door = doors\n",
    "      self.seat = seats\n",
    "        \n",
    "\n",
    "hyundai = Car(3,4)\n",
    "\n",
    "genesis = Car(4,2,2)\n",
    "\n",
    "\n",
    "print(f\"Hyundai seats: {hyundai.seat}, Genesis seats: {genesis.seat}\")"
   ]
  },
  {
   "cell_type": "markdown",
   "metadata": {
    "id": "2cAd7L9I6qaU"
   },
   "source": [
    "## Class Methods <br>\n",
    "<p>While inside of a class, functions are referred to as 'methods'. If you hear someone mention methods, they're speaking about classes. Methods are essentially functions, but only callable on the instances of a class.</p>"
   ]
  },
  {
   "cell_type": "markdown",
   "metadata": {
    "id": "GpY6_Yz56qaU"
   },
   "source": [
    "##### Creating"
   ]
  },
  {
   "cell_type": "code",
   "execution_count": 48,
   "metadata": {
    "executionInfo": {
     "elapsed": 260,
     "status": "ok",
     "timestamp": 1654402995715,
     "user": {
      "displayName": "Brandon Apol",
      "userId": "10984203036753147866"
     },
     "user_tz": 480
    },
    "id": "DuiDzP1p6qaU"
   },
   "outputs": [
    {
     "name": "stdout",
     "output_type": "stream",
     "text": [
      "Your remaining capacity is: 40\n",
      "Your remaining capacity is: 50\n"
     ]
    }
   ],
   "source": [
    "class ShoppingBag():\n",
    "\n",
    "  '''\n",
    "    The ShoppingBag class will have handles, capacity, \n",
    "    and items to place inside.\n",
    "\n",
    "    Attributes for the class: \n",
    "    - handles: expected to be an integer\n",
    "    - items: expected to be a list\n",
    "    - capacity: expected to be a string or an integer\n",
    "  '''\n",
    "\n",
    "  def __init__(self, handles,capacity, items):\n",
    "    self.handles = handles\n",
    "    self.capacity = capacity\n",
    "    self.items = items\n",
    "\n",
    "# Write a method that shows the items in our shoppingBag / this is our items list\n",
    "  def showShoppingBag(self):\n",
    "    if len(self.items) == 0:\n",
    "      print('You have no items.')\n",
    "    else:\n",
    "      print(\"You have items in your bag!!!\")\n",
    "      for item in self.items:\n",
    "        print(item)\n",
    "\n",
    "# Show the capacity of ShoppingBag - how much room is left \n",
    "  def showCapacity(self):\n",
    "    print(f'Your remaining capacity is: {self.capacity - len(self.items)}')\n",
    "\n",
    "# Add items to the items list for the shopping bag\n",
    "  def addToShoppingBag(self):\n",
    "    if len(self.items) == self.capacity:\n",
    "      print('You have no room!')\n",
    "    else:\n",
    "      product = input('What would you like to add? ')\n",
    "      self.items.append(product)\n",
    "# Change the capacity of the ShoppingBag\n",
    "  def changeBagCapacity(self, capacity):\n",
    "    self.capacity = capacity\n",
    "# Increase the capacity of the shoppingBag by a default amount that we set to 10\n",
    "  def increaseCapacity(self, changed_capacity = 10):\n",
    "        if self.capacity == isinstance(self.capacity, str):\n",
    "            print(\"We can't add that here\")\n",
    "        else:\n",
    "            self.capacity += changed_capacity\n",
    "        \n",
    "  def showHandles(self):\n",
    "    print(f'You have {self.handles} handles on your bag')\n",
    "    \n",
    "# So far, we created the idea of the shopping bag; now we will actually instantiate and MAKE one, and use it!\n",
    "\n",
    "wholeFoodsBag = ShoppingBag(2, 10, [])\n",
    "\n",
    "\n",
    "#create a function to run the shoppingBag methods on our wholeFoods_bag instance\n",
    "\n",
    "\n",
    "def run():\n",
    "  while True:\n",
    "    response = input(\"What would you like to do?\\n\\nYou may:\\n- Add\\n-Show\\n-Quit\\n\")\n",
    "\n",
    "    if response.lower() == 'quit':\n",
    "      wholeFoodsBag.showShoppingBag()\n",
    "      print('Thanks for shopping!')\n",
    "      break\n",
    "    elif response.lower() == 'add':\n",
    "      wholeFoodsBag.addToShoppingBag()\n",
    "    elif response.lower() == 'show':\n",
    "      showChoice = input('What would you like to see: \\n- Capacity\\n- Handles\\n- Shopping Bag \\n')\n",
    "      if showChoice.lower() == 'capacity':\n",
    "        wholeFoodsBag.showCapacity()\n",
    "      elif showChoice.lower() == 'handles':\n",
    "        wholeFoodsBag.showHandles()\n",
    "      else:\n",
    "        wholeFoodsBag.showShoppingBag()\n",
    "    else:\n",
    "      print('That is not a valid option. Please enter add, show, or quit.')\n",
    "\n",
    "# run()\n",
    "\n",
    "\n",
    "# print(wholeFoodsBag.capacity)\n",
    "\n",
    "wholeFoodsBag.changeBagCapacity(40)\n",
    "\n",
    "\n",
    "# print(wholeFoodsBag.capacity)\n",
    "\n",
    "wholeFoodsBag.showCapacity()\n",
    "\n",
    "wholeFoodsBag.increaseCapacity()\n",
    "wholeFoodsBag.showCapacity()"
   ]
  },
  {
   "cell_type": "markdown",
   "metadata": {
    "id": "jLqPPUlV6qaU"
   },
   "source": [
    "##### Calling"
   ]
  },
  {
   "cell_type": "code",
   "execution_count": 32,
   "metadata": {
    "colab": {
     "base_uri": "https://localhost:8080/"
    },
    "executionInfo": {
     "elapsed": 48652,
     "status": "ok",
     "timestamp": 1654403046490,
     "user": {
      "displayName": "Brandon Apol",
      "userId": "10984203036753147866"
     },
     "user_tz": 480
    },
    "id": "dQJXHGDp6qaU",
    "outputId": "766e54ef-853c-4e8e-b0d1-e793f1f06323"
   },
   "outputs": [
    {
     "name": "stdout",
     "output_type": "stream",
     "text": [
      "What would you like to do?\n",
      "\n",
      "You may:\n",
      "- Add\n",
      "-Show\n",
      "-Quit\n",
      "show\n"
     ]
    },
    {
     "ename": "KeyboardInterrupt",
     "evalue": "Interrupted by user",
     "output_type": "error",
     "traceback": [
      "\u001b[0;31m---------------------------------------------------------------------------\u001b[0m",
      "\u001b[0;31mKeyboardInterrupt\u001b[0m                         Traceback (most recent call last)",
      "Input \u001b[0;32mIn [32]\u001b[0m, in \u001b[0;36m<cell line: 29>\u001b[0;34m()\u001b[0m\n\u001b[1;32m     26\u001b[0m     \u001b[38;5;28;01melse\u001b[39;00m:\n\u001b[1;32m     27\u001b[0m       \u001b[38;5;28mprint\u001b[39m(\u001b[38;5;124m'\u001b[39m\u001b[38;5;124mThat is not a valid option. Please enter add, show, or quit.\u001b[39m\u001b[38;5;124m'\u001b[39m)\n\u001b[0;32m---> 29\u001b[0m \u001b[43mrun\u001b[49m\u001b[43m(\u001b[49m\u001b[43m)\u001b[49m\n",
      "Input \u001b[0;32mIn [32]\u001b[0m, in \u001b[0;36mrun\u001b[0;34m()\u001b[0m\n\u001b[1;32m     17\u001b[0m   wholeFoodsBag\u001b[38;5;241m.\u001b[39maddToShoppingBag()\n\u001b[1;32m     18\u001b[0m \u001b[38;5;28;01melif\u001b[39;00m response\u001b[38;5;241m.\u001b[39mlower() \u001b[38;5;241m==\u001b[39m \u001b[38;5;124m'\u001b[39m\u001b[38;5;124mshow\u001b[39m\u001b[38;5;124m'\u001b[39m:\n\u001b[0;32m---> 19\u001b[0m   showChoice \u001b[38;5;241m=\u001b[39m \u001b[38;5;28;43minput\u001b[39;49m\u001b[43m(\u001b[49m\u001b[38;5;124;43m'\u001b[39;49m\u001b[38;5;124;43mWhat would you like to see: \u001b[39;49m\u001b[38;5;130;43;01m\\n\u001b[39;49;00m\u001b[38;5;124;43m- Capacity\u001b[39;49m\u001b[38;5;130;43;01m\\n\u001b[39;49;00m\u001b[38;5;124;43m- Handles\u001b[39;49m\u001b[38;5;130;43;01m\\n\u001b[39;49;00m\u001b[38;5;124;43m- Shopping Bag\u001b[39;49m\u001b[38;5;124;43m'\u001b[39;49m\u001b[43m)\u001b[49m\n\u001b[1;32m     20\u001b[0m   \u001b[38;5;28;01mif\u001b[39;00m showChoice\u001b[38;5;241m.\u001b[39mlower() \u001b[38;5;241m==\u001b[39m \u001b[38;5;124m'\u001b[39m\u001b[38;5;124mcapacity\u001b[39m\u001b[38;5;124m'\u001b[39m:\n\u001b[1;32m     21\u001b[0m     wholeFoodsBag\u001b[38;5;241m.\u001b[39mshowCapacity()\n",
      "File \u001b[0;32m~/opt/anaconda3/lib/python3.9/site-packages/ipykernel/kernelbase.py:1075\u001b[0m, in \u001b[0;36mKernel.raw_input\u001b[0;34m(self, prompt)\u001b[0m\n\u001b[1;32m   1071\u001b[0m \u001b[38;5;28;01mif\u001b[39;00m \u001b[38;5;129;01mnot\u001b[39;00m \u001b[38;5;28mself\u001b[39m\u001b[38;5;241m.\u001b[39m_allow_stdin:\n\u001b[1;32m   1072\u001b[0m     \u001b[38;5;28;01mraise\u001b[39;00m StdinNotImplementedError(\n\u001b[1;32m   1073\u001b[0m         \u001b[38;5;124m\"\u001b[39m\u001b[38;5;124mraw_input was called, but this frontend does not support input requests.\u001b[39m\u001b[38;5;124m\"\u001b[39m\n\u001b[1;32m   1074\u001b[0m     )\n\u001b[0;32m-> 1075\u001b[0m \u001b[38;5;28;01mreturn\u001b[39;00m \u001b[38;5;28;43mself\u001b[39;49m\u001b[38;5;241;43m.\u001b[39;49m\u001b[43m_input_request\u001b[49m\u001b[43m(\u001b[49m\n\u001b[1;32m   1076\u001b[0m \u001b[43m    \u001b[49m\u001b[38;5;28;43mstr\u001b[39;49m\u001b[43m(\u001b[49m\u001b[43mprompt\u001b[49m\u001b[43m)\u001b[49m\u001b[43m,\u001b[49m\n\u001b[1;32m   1077\u001b[0m \u001b[43m    \u001b[49m\u001b[38;5;28;43mself\u001b[39;49m\u001b[38;5;241;43m.\u001b[39;49m\u001b[43m_parent_ident\u001b[49m\u001b[43m[\u001b[49m\u001b[38;5;124;43m\"\u001b[39;49m\u001b[38;5;124;43mshell\u001b[39;49m\u001b[38;5;124;43m\"\u001b[39;49m\u001b[43m]\u001b[49m\u001b[43m,\u001b[49m\n\u001b[1;32m   1078\u001b[0m \u001b[43m    \u001b[49m\u001b[38;5;28;43mself\u001b[39;49m\u001b[38;5;241;43m.\u001b[39;49m\u001b[43mget_parent\u001b[49m\u001b[43m(\u001b[49m\u001b[38;5;124;43m\"\u001b[39;49m\u001b[38;5;124;43mshell\u001b[39;49m\u001b[38;5;124;43m\"\u001b[39;49m\u001b[43m)\u001b[49m\u001b[43m,\u001b[49m\n\u001b[1;32m   1079\u001b[0m \u001b[43m    \u001b[49m\u001b[43mpassword\u001b[49m\u001b[38;5;241;43m=\u001b[39;49m\u001b[38;5;28;43;01mFalse\u001b[39;49;00m\u001b[43m,\u001b[49m\n\u001b[1;32m   1080\u001b[0m \u001b[43m\u001b[49m\u001b[43m)\u001b[49m\n",
      "File \u001b[0;32m~/opt/anaconda3/lib/python3.9/site-packages/ipykernel/kernelbase.py:1120\u001b[0m, in \u001b[0;36mKernel._input_request\u001b[0;34m(self, prompt, ident, parent, password)\u001b[0m\n\u001b[1;32m   1117\u001b[0m             \u001b[38;5;28;01mbreak\u001b[39;00m\n\u001b[1;32m   1118\u001b[0m \u001b[38;5;28;01mexcept\u001b[39;00m \u001b[38;5;167;01mKeyboardInterrupt\u001b[39;00m:\n\u001b[1;32m   1119\u001b[0m     \u001b[38;5;66;03m# re-raise KeyboardInterrupt, to truncate traceback\u001b[39;00m\n\u001b[0;32m-> 1120\u001b[0m     \u001b[38;5;28;01mraise\u001b[39;00m \u001b[38;5;167;01mKeyboardInterrupt\u001b[39;00m(\u001b[38;5;124m\"\u001b[39m\u001b[38;5;124mInterrupted by user\u001b[39m\u001b[38;5;124m\"\u001b[39m) \u001b[38;5;28;01mfrom\u001b[39;00m \u001b[38;5;28mNone\u001b[39m\n\u001b[1;32m   1121\u001b[0m \u001b[38;5;28;01mexcept\u001b[39;00m \u001b[38;5;167;01mException\u001b[39;00m:\n\u001b[1;32m   1122\u001b[0m     \u001b[38;5;28mself\u001b[39m\u001b[38;5;241m.\u001b[39mlog\u001b[38;5;241m.\u001b[39mwarning(\u001b[38;5;124m\"\u001b[39m\u001b[38;5;124mInvalid Message:\u001b[39m\u001b[38;5;124m\"\u001b[39m, exc_info\u001b[38;5;241m=\u001b[39m\u001b[38;5;28;01mTrue\u001b[39;00m)\n",
      "\u001b[0;31mKeyboardInterrupt\u001b[0m: Interrupted by user"
     ]
    }
   ],
   "source": [
    "# See Above\n",
    "\n",
    "\n"
   ]
  },
  {
   "cell_type": "markdown",
   "metadata": {
    "id": "zKvlDgTo6qaV"
   },
   "source": [
    "##### Modifying an Attribute's Value Through a Method"
   ]
  },
  {
   "cell_type": "code",
   "execution_count": null,
   "metadata": {
    "id": "9M6x0qsk6qaV"
   },
   "outputs": [],
   "source": []
  },
  {
   "cell_type": "markdown",
   "metadata": {
    "id": "s1eIpLA76qaV"
   },
   "source": [
    "##### Incrementing an Attribute's Value Through a Method"
   ]
  },
  {
   "cell_type": "code",
   "execution_count": null,
   "metadata": {
    "id": "DBQ07qOI6qaV"
   },
   "outputs": [],
   "source": []
  },
  {
   "cell_type": "markdown",
   "metadata": {
    "id": "3OnGbPMg6qaV"
   },
   "source": [
    "##### In-Class Exercise #3 - Add a method that takes in three parameters of year, doors and seats and prints out a formatted print statement with make, model, year, seats, and doors"
   ]
  },
  {
   "cell_type": "code",
   "execution_count": 21,
   "metadata": {
    "id": "njxbIERD6qaV"
   },
   "outputs": [
    {
     "data": {
      "text/plain": [
       "'This car is from 2019 and is a Ford Expolorer and has 4 doors and 5 seats'"
      ]
     },
     "execution_count": 21,
     "metadata": {},
     "output_type": "execute_result"
    }
   ],
   "source": [
    "# Create class with 2 paramters inside of the __init__ which are make and model\n",
    "\n",
    "class Car():\n",
    "\n",
    "    def __init__(self,make, model, year, door, seats):\n",
    "        self.make = make\n",
    "        self.model = model\n",
    "        self.year = year\n",
    "        self.door = door\n",
    "        self.seats = seats\n",
    "        \n",
    "    def printInfo(self):\n",
    "        return f\"This car is from {self.year} and is a {self.model} and has {self.door} doors and {self.seats} seats\"\n",
    "        \n",
    "\n",
    "ford = Car('Ford','Ford Expolorer',2019,4,5)\n",
    "ford.printInfo()\n",
    "\n",
    "# Inside of the Car class create a method that has 4 parameter in total (self,year,door,seats)\n",
    "\n",
    "# Output: This car is from 2019 and is a Ford Expolorer and has 4 doors and 5 seats\n",
    "\n"
   ]
  },
  {
   "cell_type": "markdown",
   "metadata": {
    "id": "dwpcygAo6qaV"
   },
   "source": [
    "## Inheritance <br>\n",
    "<p>You can create a child-parent relationship between two classes by using inheritance. What this allows you to do is have overriding methods, but also inherit traits from the parent class. Think of it as an actual parent and child, the child will inherit the parent's genes, as will the classes in OOP</p>"
   ]
  },
  {
   "cell_type": "markdown",
   "metadata": {
    "id": "RxjwbuIl6qaV"
   },
   "source": [
    "##### Syntax for Inheriting from a Parent Class"
   ]
  },
  {
   "cell_type": "code",
   "execution_count": 18,
   "metadata": {
    "id": "fVjKab2o6qaV"
   },
   "outputs": [
    {
     "name": "stdout",
     "output_type": "stream",
     "text": [
      "Bark\n",
      "Make some generic sound\n",
      "None\n",
      "9.8\n"
     ]
    }
   ],
   "source": [
    "# Create a parant class and call it Animoal\n",
    "\n",
    "class Animal():\n",
    "    acceleration = 9.8\n",
    "    \n",
    "    def __init__(self, name, species, legs = 4):\n",
    "        self.name = name\n",
    "        self.species = species\n",
    "        self.legs = legs\n",
    "        \n",
    "        #Generic Parent Method - This is not overriding anything\n",
    "    def makeSound(self):\n",
    "        print(\"Make some generic sound\")\n",
    "        \n",
    "#Now we are making our child class...Dog\n",
    "\n",
    "class Dog(Animal):\n",
    "    speed = 15\n",
    "    \n",
    "    def printInfo(self):\n",
    "        print(f\"The Dog has {self.speed}mph in speed and {self.acceleration}\")\n",
    "\n",
    "#Creation of our Grand-Child Class -- Mutt\n",
    "class Mutt(Dog):\n",
    "    color = \"Tan\"\n",
    "    \n",
    "    #override the Animal class - using the Dog class to overwrite the __init__ from Animal\n",
    "    def __init__(self, name, species, eye_color, legs = 4):\n",
    "        Dog.__init__(self, name, species, legs)\n",
    "        self.eye_color = eye_color\n",
    "        \n",
    "    #override the makeSound method (which is coming from...Animal)\n",
    "    def makeSound(self):\n",
    "        noise = \"Bark\"\n",
    "        return noise\n",
    "    \n",
    "lassie = Dog('Lassie', 'Dog')\n",
    "basic_animal = Animal('Generic Animal Name', 'Generic Animal Species')\n",
    "buster = Mutt('Buster','Mut','Brown')\n",
    "\n",
    "print(buster.makeSound())\n",
    "print(lassie.makeSound())\n",
    "print(buster.acceleration)\n",
    "\n"
   ]
  },
  {
   "cell_type": "markdown",
   "metadata": {
    "id": "gW-PNDG66qaV"
   },
   "source": [
    "##### The \\__init\\__() Method for a Child Class - super()"
   ]
  },
  {
   "cell_type": "code",
   "execution_count": 19,
   "metadata": {
    "id": "kfA6mVBq6qaV",
    "scrolled": true
   },
   "outputs": [
    {
     "name": "stdout",
     "output_type": "stream",
     "text": [
      "Bark\n",
      "Make some generic sound\n",
      "None\n",
      "9.8\n"
     ]
    }
   ],
   "source": [
    "#super(): parant class를 말함\n",
    "class Puppy(Dog):\n",
    "    color = \"black and brown\"\n",
    "    def __init__(self, name, species, eye_color, legs=4):\n",
    "        super().__init__(name,species,legs)\n",
    "        self.eye_color = eye_color\n",
    "    \n",
    "    def makeSound(self):\n",
    "        noise = \"Bark\"\n",
    "        return noise\n",
    "    \n",
    "lassie = Dog('Lassie', 'Dog')\n",
    "basic_animal = Animal('Generic Animal Name', 'Generic Animal Species')\n",
    "buster = Mutt('Buster','Mut','Brown')\n",
    "\n",
    "print(buster.makeSound())\n",
    "print(lassie.makeSound())\n",
    "print(buster.acceleration)"
   ]
  },
  {
   "cell_type": "markdown",
   "metadata": {
    "id": "XUO6XcM46qaV"
   },
   "source": [
    "##### Defining Attributes and Methods for the Child Class"
   ]
  },
  {
   "cell_type": "code",
   "execution_count": null,
   "metadata": {
    "id": "V2icaoLM6qaV"
   },
   "outputs": [],
   "source": [
    "# See Above"
   ]
  },
  {
   "cell_type": "markdown",
   "metadata": {
    "id": "9Rr2MZdB6qaV"
   },
   "source": [
    "##### Method Overriding"
   ]
  },
  {
   "cell_type": "code",
   "execution_count": null,
   "metadata": {
    "id": "r67j7Np96qaV"
   },
   "outputs": [],
   "source": [
    "# See Above"
   ]
  },
  {
   "cell_type": "markdown",
   "metadata": {
    "id": "2x6DBjcJ6qaV"
   },
   "source": [
    "## Classes as Attributes <br>\n",
    "<p>Classes can also be used as attributes within another class. This is useful in situations where you need to keep variables locally stored, instead of globally stored.</p>"
   ]
  },
  {
   "cell_type": "code",
   "execution_count": 1,
   "metadata": {
    "id": "yJ4rQuLP6qaV"
   },
   "outputs": [
    {
     "data": {
      "text/plain": [
       "'2017 Tesla model X 20'"
      ]
     },
     "execution_count": 1,
     "metadata": {},
     "output_type": "execute_result"
    }
   ],
   "source": [
    "class Battery():\n",
    "    volts = 7.8\n",
    "    \n",
    "    def __init__(self,cells):\n",
    "        self.cells = cells\n",
    "\n",
    "class Car():\n",
    "    def __init__(self,year,make,model,battery):\n",
    "        self.year = year\n",
    "        self.make = make\n",
    "        self.model = model\n",
    "        self.battery = battery\n",
    "    \n",
    "    def printInfo(self):\n",
    "        return f'{self.year} {self.make} {self.model} {self.battery.cells}'\n",
    "    \n",
    "my_battery = Battery(20)\n",
    "\n",
    "tesla = Car(2018,'Tesla','model X',my_battery)\n",
    "\n",
    "tesla.printInfo()"
   ]
  },
  {
   "cell_type": "markdown",
   "metadata": {
    "id": "0TaDNag56qaV"
   },
   "source": [
    "# Exercises"
   ]
  },
  {
   "cell_type": "markdown",
   "metadata": {
    "id": "OmiCVOuc6qaV"
   },
   "source": [
    "### Exercise 1 - Turn the shopping cart program from yesterday into an object-oriented program\n",
    "\n",
    "The comments in the cell below are there as a guide for thinking about the problem. However, if you feel a different way is best for you and your own thought process, please do what feels best for you by all means."
   ]
  },
  {
   "cell_type": "code",
   "execution_count": null,
   "metadata": {
    "id": "nIJiQUSl6qaW"
   },
   "outputs": [
    {
     "name": "stdout",
     "output_type": "stream",
     "text": [
      "What would you like to do?\n",
      "\n",
      "You may:\n",
      "-Add\n",
      "-Show\n",
      "-Remove\n",
      "-Quit\n",
      "milk\n",
      "That is not a valid option. Please enter add, show, or quit.\n",
      "What would you like to do?\n",
      "\n",
      "You may:\n",
      "-Add\n",
      "-Show\n",
      "-Remove\n",
      "-Quit\n",
      "show\n",
      "You have no item in your cart!\n",
      "What would you like to do?\n",
      "\n",
      "You may:\n",
      "-Add\n",
      "-Show\n",
      "-Remove\n",
      "-Quit\n",
      "add\n",
      "What would you like to add? milk\n"
     ]
    }
   ],
   "source": [
    "# Create a class called cart that retains items and has methods to add, remove, and show\n",
    "\n",
    "class Cart():\n",
    "    def __init__(self, items):\n",
    "        self.items = items\n",
    "    \n",
    "    def show(self):\n",
    "        if len(self.items) == 0:\n",
    "            print(\"You have no item in your cart!\")\n",
    "        else:\n",
    "            print(f\"The items are {self.items}\")\n",
    "        \n",
    "    def add(self):\n",
    "        product = input('What would you like to add? ')\n",
    "        self.items.append(product)\n",
    "        \n",
    "    def remove(self):\n",
    "        product2 = input('What would you like to add? ')\n",
    "        self.items.remove(product2)\n",
    "\n",
    "    \n",
    "\n",
    "wholeFoodsBag = Cart([])\n",
    "\n",
    "\n",
    "def run():\n",
    "  while True:\n",
    "    response = input(\"What would you like to do?\\n\\nYou may:\\n-Add\\n-Show\\n-Remove\\n-Quit\\n\")\n",
    "\n",
    "    if response.lower() == 'quit':\n",
    "        wholeFoodsBag.show()\n",
    "        print('Thanks for shopping!')\n",
    "        break\n",
    "    elif response.lower() == 'add':\n",
    "        wholeFoodsBag.add()\n",
    "    elif response.lower() == 'remove':\n",
    "        wholeFoodsBag.remove()\n",
    "    elif response.lower() == 'show':\n",
    "        wholeFoodsBag.show()\n",
    "    else:\n",
    "      print('That is not a valid option. Please enter add, show, or quit.')\n",
    "    \n",
    "\n",
    "run()\n",
    "    "
   ]
  },
  {
   "cell_type": "markdown",
   "metadata": {
    "id": "X7uS68a06qaW"
   },
   "source": [
    "### Exercise 2 - Write a Python class which has two methods get_String and print_String. get_String accept a string from the user and print_String print the string in upper case"
   ]
  },
  {
   "cell_type": "code",
   "execution_count": 8,
   "metadata": {
    "id": "WdrwThy96qaW"
   },
   "outputs": [
    {
     "name": "stdout",
     "output_type": "stream",
     "text": [
      "Say something: dddd\n"
     ]
    },
    {
     "data": {
      "text/plain": [
       "'The output: DDDD'"
      ]
     },
     "execution_count": 8,
     "metadata": {},
     "output_type": "execute_result"
    }
   ],
   "source": [
    "class GetString():\n",
    "    def __init__(self,g_string):\n",
    "        self.g_string = g_string\n",
    "        \n",
    "    def printString(self):\n",
    "        p_srting = self.g_string.upper()\n",
    "        return f\"The output: {p_srting}\"\n",
    "    \n",
    "\n",
    "say = GetString(input(\"Say something: \"))\n",
    "say.printString()"
   ]
  }
 ],
 "metadata": {
  "colab": {
   "name": "Python Document IV.ipynb",
   "provenance": []
  },
  "kernelspec": {
   "display_name": "Python 3 (ipykernel)",
   "language": "python",
   "name": "python3"
  },
  "language_info": {
   "codemirror_mode": {
    "name": "ipython",
    "version": 3
   },
   "file_extension": ".py",
   "mimetype": "text/x-python",
   "name": "python",
   "nbconvert_exporter": "python",
   "pygments_lexer": "ipython3",
   "version": "3.9.12"
  }
 },
 "nbformat": 4,
 "nbformat_minor": 1
}
